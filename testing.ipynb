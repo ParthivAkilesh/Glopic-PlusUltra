{
 "cells": [
  {
   "cell_type": "code",
   "execution_count": 1,
   "metadata": {},
   "outputs": [],
   "source": [
    "from paddleocr import PaddleOCR, draw_ocr # main OCR dependencies\n",
    "from matplotlib import pyplot as plt # plot images\n",
    "import cv2 #opencv\n",
    "import os"
   ]
  },
  {
   "cell_type": "code",
   "execution_count": 21,
   "metadata": {},
   "outputs": [],
   "source": [
    "\n",
    "class PaddleModel:\n",
    "    \n",
    "    def __init__(self, path):\n",
    "        \n",
    "        print(\"heloooooooooooooooooooooooooooooo         ;jlknfvdnbkgvrekjgvdfbvk.jdsfbnvkjdfsbngk\")\n",
    "        self.ocr_model = PaddleOCR(lang='en')\n",
    "        \n",
    "        self.path = path\n",
    "    \n",
    "    \n",
    "    def saveRes(self):\n",
    "        \n",
    "        \n",
    "        result = self.ocr_model.ocr(self.path)\n",
    "        \n",
    "        # for i in result[0]:\n",
    "        #     print(i[1][0])\n",
    "        \n",
    "        print(\"##################################################################################################################################\")\n",
    "        print(result[0])\n",
    "        \n",
    "        boxes = [res[0] for res in result[0]] # \n",
    "        texts = [res[1][0] for res in result[0]]\n",
    "        scores = [res[1][1] for res in result[0]]\n",
    "        \n",
    "        font_path = os.path.join('GlopicPro/paddleModules/PaddleOCR', 'doc', 'fonts', 'latin.ttf')\n",
    "        \n",
    "        img = cv2.imread(self.path) \n",
    "        img = cv2.cvtColor(img, cv2.COLOR_BGR2RGB) \n",
    "        \n",
    "        plt.figure(figsize=(15,15))\n",
    "\n",
    "        annotated = draw_ocr(img, boxes, texts, scores, font_path=font_path) \n",
    "        \n",
    "        # plt.imshow(annotated)\n",
    "        \n",
    "        cv2.imwrite(\"image.jpg\", annotated)"
   ]
  },
  {
   "cell_type": "code",
   "execution_count": 22,
   "metadata": {},
   "outputs": [
    {
     "name": "stdout",
     "output_type": "stream",
     "text": [
      "heloooooooooooooooooooooooooooooo         ;jlknfvdnbkgvrekjgvdfbvk.jdsfbnvkjdfsbngk\n",
      "[2023/04/11 12:47:46] ppocr DEBUG: Namespace(alpha=1.0, benchmark=False, beta=1.0, cls_batch_num=6, cls_image_shape='3, 48, 192', cls_model_dir='/Users/ads-29/.paddleocr/whl/cls/ch_ppocr_mobile_v2.0_cls_infer', cls_thresh=0.9, cpu_threads=10, crop_res_save_dir='./output', det=True, det_algorithm='DB', det_box_type='quad', det_db_box_thresh=0.6, det_db_score_mode='fast', det_db_thresh=0.3, det_db_unclip_ratio=1.5, det_east_cover_thresh=0.1, det_east_nms_thresh=0.2, det_east_score_thresh=0.8, det_limit_side_len=960, det_limit_type='max', det_model_dir='/Users/ads-29/.paddleocr/whl/det/en/en_PP-OCRv3_det_infer', det_pse_box_thresh=0.85, det_pse_min_area=16, det_pse_scale=1, det_pse_thresh=0, det_sast_nms_thresh=0.2, det_sast_score_thresh=0.5, draw_img_save_dir='./inference_results', drop_score=0.5, e2e_algorithm='PGNet', e2e_char_dict_path='./ppocr/utils/ic15_dict.txt', e2e_limit_side_len=768, e2e_limit_type='max', e2e_model_dir=None, e2e_pgnet_mode='fast', e2e_pgnet_score_thresh=0.5, e2e_pgnet_valid_set='totaltext', enable_mkldnn=False, fourier_degree=5, gpu_mem=500, help='==SUPPRESS==', image_dir=None, image_orientation=False, ir_optim=True, kie_algorithm='LayoutXLM', label_list=['0', '180'], lang='en', layout=True, layout_dict_path=None, layout_model_dir=None, layout_nms_threshold=0.5, layout_score_threshold=0.5, max_batch_size=10, max_text_length=25, merge_no_span_structure=True, min_subgraph_size=15, mode='structure', ocr=True, ocr_order_method=None, ocr_version='PP-OCRv3', output='./output', page_num=0, precision='fp32', process_id=0, re_model_dir=None, rec=True, rec_algorithm='SVTR_LCNet', rec_batch_num=6, rec_char_dict_path='/opt/anaconda3/lib/python3.8/site-packages/paddleocr/ppocr/utils/en_dict.txt', rec_image_inverse=True, rec_image_shape='3, 48, 320', rec_model_dir='/Users/ads-29/.paddleocr/whl/rec/en/en_PP-OCRv3_rec_infer', recovery=False, save_crop_res=False, save_log_path='./log_output/', scales=[8, 16, 32], ser_dict_path='../train_data/XFUND/class_list_xfun.txt', ser_model_dir=None, show_log=True, sr_batch_num=1, sr_image_shape='3, 32, 128', sr_model_dir=None, structure_version='PP-StructureV2', table=True, table_algorithm='TableAttn', table_char_dict_path=None, table_max_len=488, table_model_dir=None, total_process_num=1, type='ocr', use_angle_cls=False, use_dilation=False, use_gpu=False, use_mp=False, use_npu=False, use_onnx=False, use_pdf2docx_api=False, use_pdserving=False, use_space_char=True, use_tensorrt=False, use_visual_backbone=True, use_xpu=False, vis_font_path='./doc/fonts/simfang.ttf', warmup=False)\n",
      "[2023/04/11 12:47:47] ppocr WARNING: Since the angle classifier is not initialized, the angle classifier will not be uesd during the forward process\n",
      "[2023/04/11 12:47:47] ppocr DEBUG: dt_boxes num : 4, elapse : 0.30975794792175293\n",
      "[2023/04/11 12:47:47] ppocr DEBUG: rec_res num  : 4, elapse : 0.3423151969909668\n",
      "##################################################################################################################################\n",
      "[[[[193.0, 48.0], [405.0, 48.0], [405.0, 90.0], [193.0, 90.0]], ('12:26  ', 0.9102665781974792)], [[[783.0, 52.0], [986.0, 52.0], [986.0, 88.0], [783.0, 88.0]], ('4G 37%', 0.9655632376670837)], [[[203.0, 1251.0], [404.0, 1274.0], [399.0, 1319.0], [199.0, 1296.0]], ('TN38 AJ 0690', 0.9610247611999512)]]\n"
     ]
    },
    {
     "data": {
      "text/plain": [
       "<Figure size 1080x1080 with 0 Axes>"
      ]
     },
     "metadata": {},
     "output_type": "display_data"
    }
   ],
   "source": [
    "ob = PaddleModel(\"media/test5.png\")\n",
    "ob.saveRes()"
   ]
  },
  {
   "cell_type": "code",
   "execution_count": null,
   "metadata": {},
   "outputs": [],
   "source": []
  },
  {
   "cell_type": "code",
   "execution_count": null,
   "metadata": {},
   "outputs": [],
   "source": []
  }
 ],
 "metadata": {
  "kernelspec": {
   "display_name": "base",
   "language": "python",
   "name": "python3"
  },
  "language_info": {
   "codemirror_mode": {
    "name": "ipython",
    "version": 3
   },
   "file_extension": ".py",
   "mimetype": "text/x-python",
   "name": "python",
   "nbconvert_exporter": "python",
   "pygments_lexer": "ipython3",
   "version": "3.8.8"
  },
  "orig_nbformat": 4
 },
 "nbformat": 4,
 "nbformat_minor": 2
}
